{
 "cells": [
  {
   "cell_type": "code",
   "execution_count": 1,
   "id": "289e3039",
   "metadata": {},
   "outputs": [],
   "source": [
    "import numpy as np\n",
    "import pandas as pd\n",
    "import os, sys\n",
    "import matplotlib.pyplot as plt\n",
    "import email\n",
    "import email.policy\n",
    "import nltk\n",
    "from nltk.corpus import stopwords\n",
    "from nltk.stem import PorterStemmer\n",
    "import random"
   ]
  },
  {
   "cell_type": "code",
   "execution_count": 2,
   "id": "9f95da52",
   "metadata": {},
   "outputs": [],
   "source": [
    "ham_filenames = [name for name in sorted(os.listdir(r'D:\\Program Files\\New folder\\hamnspam\\ham')) if len(name) > 20]\n",
    "spam_filenames = [name for name in sorted(os.listdir(r'D:\\Program Files\\New folder\\hamnspam\\spam')) if len(name) > 20]"
   ]
  },
  {
   "cell_type": "code",
   "execution_count": 3,
   "id": "ac806b89",
   "metadata": {},
   "outputs": [],
   "source": [
    "def load_email(is_spam, filename):\n",
    "    directory = r'D:\\Program Files\\New folder\\hamnspam\\spam' if is_spam else r'D:\\Program Files\\New folder\\hamnspam\\ham'\n",
    "    with open(os.path.join(directory, filename), \"rb\") as f:\n",
    "        return email.parser.BytesParser(policy=email.policy.default).parse(f)\n",
    "\n",
    "ham_emails = [load_email(is_spam=False, filename=name) for name in ham_filenames]\n",
    "spam_emails = [load_email(is_spam=True, filename=name) for name in spam_filenames]"
   ]
  },
  {
   "cell_type": "markdown",
   "id": "5ce4ff02",
   "metadata": {},
   "source": [
    "## Tokenising Mails"
   ]
  },
  {
   "cell_type": "code",
   "execution_count": 4,
   "id": "bd8034f3",
   "metadata": {},
   "outputs": [],
   "source": [
    "from nltk.tokenize import word_tokenize, sent_tokenize\n",
    "from nltk.corpus import stopwords\n",
    "from bs4 import BeautifulSoup\n",
    "import string\n",
    "import re"
   ]
  },
  {
   "cell_type": "code",
   "execution_count": 5,
   "id": "add01926",
   "metadata": {},
   "outputs": [],
   "source": [
    "stop_words = (stopwords.words('english'))\n",
    "punc = list(string.punctuation)\n",
    "\n",
    "stop_words += punc\n",
    "stop_words += ['-', 'http', 'yahoo', 'google', '_']"
   ]
  },
  {
   "cell_type": "code",
   "execution_count": 6,
   "id": "5649d2b1",
   "metadata": {},
   "outputs": [],
   "source": [
    "from nltk.stem import WordNetLemmatizer\n",
    "from nltk.corpus import wordnet\n",
    "\n",
    "lemmatizer = WordNetLemmatizer()"
   ]
  },
  {
   "cell_type": "code",
   "execution_count": 7,
   "id": "0f4513df",
   "metadata": {},
   "outputs": [],
   "source": [
    "def simple_pos_tag(tag):\n",
    "    if(tag.startswith('J')):\n",
    "        return wordnet.ADJ\n",
    "    elif(tag.startswith('V')):\n",
    "        return wordnet.VERB\n",
    "    elif(tag.startswith('N')):\n",
    "        return wordnet.NOUN\n",
    "    elif(tag.startswith('R')):\n",
    "        return wordnet.ADV\n",
    "    else:\n",
    "        return wordnet.NOUN"
   ]
  },
  {
   "cell_type": "code",
   "execution_count": 8,
   "id": "e4f333ff",
   "metadata": {},
   "outputs": [],
   "source": [
    "def tokenise(words):\n",
    "    clean_words = []\n",
    "    word = word_tokenize(words.lower())\n",
    "    \n",
    "    for s in word:\n",
    "        if len(s) <=2 or s in stop_words or not(s.isalpha()):\n",
    "            continue\n",
    "        clean_words.append(s)\n",
    "\n",
    "    l_words = [lemmatizer.lemmatize(w, simple_pos_tag(w)) for w in clean_words]\n",
    "    return l_words"
   ]
  },
  {
   "cell_type": "code",
   "execution_count": 9,
   "id": "9023df32",
   "metadata": {},
   "outputs": [],
   "source": [
    "def html_to_plain(mail):\n",
    "    mail = mail.get_content()\n",
    "    return BeautifulSoup(mail, 'html.parser').text.replace('\\n\\n', '')"
   ]
  },
  {
   "cell_type": "code",
   "execution_count": 10,
   "id": "7dab506f",
   "metadata": {},
   "outputs": [],
   "source": [
    "def email_to_plain(email):\n",
    "    mail_content_type = email.get_content_type()\n",
    "    content = ''\n",
    "\n",
    "    if mail_content_type == 'text/plain':\n",
    "        content = (email.get_content().replace('-', ''))\n",
    "    elif mail_content_type == 'text/html':\n",
    "        content = (html_to_plain(email).replace('-', ''))\n",
    "    \n",
    "    content = re.sub(r'http\\S+', '', content)\n",
    "    return tokenise(content)"
   ]
  },
  {
   "cell_type": "code",
   "execution_count": 11,
   "id": "d88d04b7",
   "metadata": {},
   "outputs": [],
   "source": [
    "all_mails = []"
   ]
  },
  {
   "cell_type": "code",
   "execution_count": 12,
   "id": "72972ae3",
   "metadata": {},
   "outputs": [],
   "source": [
    "for mail in ham_emails:\n",
    "    all_mails.append((email_to_plain(mail), 'ham'))"
   ]
  },
  {
   "cell_type": "code",
   "execution_count": 13,
   "id": "ff757265",
   "metadata": {},
   "outputs": [],
   "source": [
    "for mail in spam_emails:\n",
    "    try:\n",
    "        mail.get_content()\n",
    "    except LookupError:\n",
    "        continue\n",
    "    all_mails.append((email_to_plain(mail), 'spam'))"
   ]
  },
  {
   "cell_type": "code",
   "execution_count": 14,
   "id": "a17cb3ef",
   "metadata": {},
   "outputs": [],
   "source": [
    "random.shuffle(all_mails)"
   ]
  },
  {
   "cell_type": "markdown",
   "id": "9d40d861",
   "metadata": {},
   "source": [
    "## Visulising Data"
   ]
  },
  {
   "cell_type": "code",
   "execution_count": 15,
   "id": "ce343948",
   "metadata": {},
   "outputs": [],
   "source": [
    "all_words = []\n",
    "for doc, cat in all_mails:\n",
    "    all_words += doc"
   ]
  },
  {
   "cell_type": "code",
   "execution_count": 16,
   "id": "6b128486",
   "metadata": {},
   "outputs": [
    {
     "name": "stdout",
     "output_type": "stream",
     "text": [
      "24553\n"
     ]
    }
   ],
   "source": [
    "dict_words = {}\n",
    "for w in all_words:\n",
    "    if w in dict_words:\n",
    "        dict_words[w] +=1\n",
    "    else:\n",
    "        dict_words[w] = 1\n",
    "        \n",
    "sorted_dict = sorted(dict_words.items(), key=lambda x:x[1], reverse=True)\n",
    "print(len(sorted_dict))"
   ]
  },
  {
   "cell_type": "code",
   "execution_count": 17,
   "id": "13afdae1",
   "metadata": {},
   "outputs": [],
   "source": [
    "x = np.arange(1, len(sorted_dict)+1)\n",
    "x_ = (np.ones(len(sorted_dict)))*3000\n",
    "y = []\n",
    "for i in range(len(sorted_dict)):\n",
    "    y.append(sorted_dict[i][1])"
   ]
  },
  {
   "cell_type": "code",
   "execution_count": 18,
   "id": "1c711cbb",
   "metadata": {},
   "outputs": [
    {
     "data": {
      "image/png": "[encoded data removed]",
      "text/plain": [
       "<Figure size 432x288 with 1 Axes>"
      ]
     },
     "metadata": {
      "needs_background": "light"
     },
     "output_type": "display_data"
    }
   ],
   "source": [
    "import matplotlib.pyplot as plt\n",
    "\n",
    "plt.plot(x, y)\n",
    "plt.plot(x_,x)\n",
    "plt.axis([0,8000,0,1000])\n",
    "plt.show()"
   ]
  },
  {
   "cell_type": "markdown",
   "id": "093d036f",
   "metadata": {},
   "source": [
    "## Model Creation"
   ]
  },
  {
   "cell_type": "code",
   "execution_count": 19,
   "id": "1528fb2d",
   "metadata": {},
   "outputs": [],
   "source": [
    "from sklearn.model_selection import train_test_split"
   ]
  },
  {
   "cell_type": "code",
   "execution_count": 20,
   "id": "91ae74c5",
   "metadata": {},
   "outputs": [],
   "source": [
    "X = [\" \".join(doc) for doc, catagory in all_mails]\n",
    "\n",
    "y = [catagory for doc, catagory in all_mails]"
   ]
  },
  {
   "cell_type": "code",
   "execution_count": 21,
   "id": "357dff2b",
   "metadata": {},
   "outputs": [],
   "source": [
    "X_train, X_test, y_train, y_test = train_test_split(X, y)"
   ]
  },
  {
   "cell_type": "code",
   "execution_count": 22,
   "id": "177df462",
   "metadata": {},
   "outputs": [
    {
     "data": {
      "text/plain": [
       "(2213, 738)"
      ]
     },
     "execution_count": 22,
     "metadata": {},
     "output_type": "execute_result"
    }
   ],
   "source": [
    "len(X_train), len(X_test)"
   ]
  },
  {
   "cell_type": "code",
   "execution_count": 23,
   "id": "f39bcde4",
   "metadata": {},
   "outputs": [],
   "source": [
    "from sklearn.feature_extraction.text import CountVectorizer\n",
    "\n",
    "count_vec = CountVectorizer(max_features = 3000)"
   ]
  },
  {
   "cell_type": "code",
   "execution_count": 24,
   "id": "29e002bb",
   "metadata": {},
   "outputs": [],
   "source": [
    "X_train_set = count_vec.fit_transform(X_train)\n",
    "X_test_set = count_vec.transform(X_test)"
   ]
  },
  {
   "cell_type": "code",
   "execution_count": 25,
   "id": "9dab468f",
   "metadata": {},
   "outputs": [
    {
     "data": {
      "text/plain": [
       "matrix([[0, 0, 0, ..., 0, 0, 0],\n",
       "        [0, 0, 0, ..., 0, 0, 0],\n",
       "        [0, 0, 0, ..., 0, 0, 0],\n",
       "        ...,\n",
       "        [0, 0, 0, ..., 0, 0, 0],\n",
       "        [0, 0, 0, ..., 0, 0, 0],\n",
       "        [0, 0, 0, ..., 0, 0, 0]], dtype=int64)"
      ]
     },
     "execution_count": 25,
     "metadata": {},
     "output_type": "execute_result"
    }
   ],
   "source": [
    "X_train_set.todense()"
   ]
  },
  {
   "cell_type": "code",
   "execution_count": 26,
   "id": "05c5f65a",
   "metadata": {},
   "outputs": [],
   "source": [
    "# print(count_vec.get_feature_names())"
   ]
  },
  {
   "cell_type": "code",
   "execution_count": 27,
   "id": "cf7e2e98",
   "metadata": {
    "scrolled": true
   },
   "outputs": [
    {
     "data": {
      "text/plain": [
       "{'analyzer': 'word',\n",
       " 'binary': False,\n",
       " 'decode_error': 'strict',\n",
       " 'dtype': numpy.int64,\n",
       " 'encoding': 'utf-8',\n",
       " 'input': 'content',\n",
       " 'lowercase': True,\n",
       " 'max_df': 1.0,\n",
       " 'max_features': 3000,\n",
       " 'min_df': 1,\n",
       " 'ngram_range': (1, 1),\n",
       " 'preprocessor': None,\n",
       " 'stop_words': None,\n",
       " 'strip_accents': None,\n",
       " 'token_pattern': '(?u)\\\\b\\\\w\\\\w+\\\\b',\n",
       " 'tokenizer': None,\n",
       " 'vocabulary': None}"
      ]
     },
     "execution_count": 27,
     "metadata": {},
     "output_type": "execute_result"
    }
   ],
   "source": [
    "count_vec.get_params()"
   ]
  },
  {
   "cell_type": "markdown",
   "id": "7a26d4b0",
   "metadata": {},
   "source": [
    "### Naive Bayes"
   ]
  },
  {
   "cell_type": "code",
   "execution_count": 28,
   "id": "48419b6b",
   "metadata": {},
   "outputs": [],
   "source": [
    "from sklearn.naive_bayes import BernoulliNB\n",
    "from sklearn.metrics import classification_report,confusion_matrix,accuracy_score"
   ]
  },
  {
   "cell_type": "code",
   "execution_count": 29,
   "id": "0bf5ebd1",
   "metadata": {},
   "outputs": [
    {
     "data": {
      "text/plain": [
       "BernoulliNB()"
      ]
     },
     "execution_count": 29,
     "metadata": {},
     "output_type": "execute_result"
    }
   ],
   "source": [
    "classifier = BernoulliNB()\n",
    "\n",
    "classifier.fit(X_train_set, y_train)"
   ]
  },
  {
   "cell_type": "code",
   "execution_count": 30,
   "id": "89b54480",
   "metadata": {},
   "outputs": [
    {
     "name": "stdout",
     "output_type": "stream",
     "text": [
      "Training Score:  0.9435155896972436\n",
      "Testing Score:  0.9349593495934959\n"
     ]
    }
   ],
   "source": [
    "print(\"Training Score: \", classifier.score(X_train_set, y_train))\n",
    "print(\"Testing Score: \", classifier.score(X_test_set, y_test))"
   ]
  },
  {
   "cell_type": "code",
   "execution_count": 31,
   "id": "eddc7559",
   "metadata": {},
   "outputs": [
    {
     "data": {
      "text/plain": [
       "array([[622,  26],\n",
       "       [ 22,  68]], dtype=int64)"
      ]
     },
     "execution_count": 31,
     "metadata": {},
     "output_type": "execute_result"
    }
   ],
   "source": [
    "y_pred = classifier.predict(X_test_set)\n",
    "\n",
    "confusion_matrix(y_test, y_pred)"
   ]
  },
  {
   "cell_type": "code",
   "execution_count": 32,
   "id": "f50edb9e",
   "metadata": {},
   "outputs": [
    {
     "data": {
      "text/plain": [
       "array(['ham'], dtype='<U4')"
      ]
     },
     "execution_count": 32,
     "metadata": {},
     "output_type": "execute_result"
    }
   ],
   "source": [
    "# classifier.predict()\n",
    "\n",
    "mail = [ham_emails[11].get_content()]\n",
    "mail = 'you win 10 dollers'\n",
    "\n",
    "mail = count_vec.transform(mail)\n",
    "classifier.predict(mail)"
   ]
  }
 ],
 "metadata": {
  "kernelspec": {
   "display_name": "Python 3 (ipykernel)",
   "language": "python",
   "name": "python3"
  },
  "language_info": {
   "codemirror_mode": {
    "name": "ipython",
    "version": 3
   },
   "file_extension": ".py",
   "mimetype": "text/x-python",
   "name": "python",
   "nbconvert_exporter": "python",
   "pygments_lexer": "ipython3",
   "version": "3.9.7"
  }
 },
 "nbformat": 4,
 "nbformat_minor": 5
}
